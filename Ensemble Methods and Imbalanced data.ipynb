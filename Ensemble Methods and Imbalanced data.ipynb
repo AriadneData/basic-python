{
 "cells": [
  {
   "cell_type": "markdown",
   "metadata": {},
   "source": [
    "** Kaggle dataset for exploration\n",
    "https://www.kaggle.com/ludobenistant/hr-analytics\n",
    "\n",
    "Handling imbalanced datasets \n",
    "https://www.analyticsvidhya.com/blog/2017/03/imbalanced-classification-problem/\n",
    "\n",
    "Approaches:\n",
    "Techniques modifying the datasets\n",
    "1) Random undersampling - eliminate a random sample \n",
    "    Can discard potentially good data and discard might not be ubiased\n",
    "2) Random oversampling - replicates lower data set\n",
    "    Better than random under sampling but may increase overfitting\n",
    "3) Cluster Based over sampling - each cluster from K-means is over sampled so all clusters of same class have the same size\n",
    "    Possibility over fitting but overcomes class imbalance\n",
    "4) Informed oversampling - synthetic minority over sampling (e.g. SMOTE) - subset of minority set is taken and then new items created\n",
    "    Avoids over-fitting but not effective for high dimensions. SMOTE does not take into account distribution of minority class nor noise \n",
    "5) Modified synthetic minority oversampling technique (MSMOTE) - \n",
    "\n",
    "Algorithmic Ensemble Techniques - improve performance of single classifiers\n",
    "1) Bagging - Bootstrap aggregation - Generating 'n' different bootstrap training samples with replacement. Train samples and aggregate predictions at the end.\n",
    "    Bad classifiers further degrade performance but overcomes overfitting, reduces variance. Outperforms boosting in noisy environments\n",
    "    (http://scikit-learn.org/stable/modules/ensemble.html)\n",
    "    Bagging methods come in many flavours but mostly differ from each other by the way they draw random subsets of the training set:\n",
    "    When random subsets of the dataset are drawn as random subsets of the samples, then this algorithm is known as Pasting [B1999].\n",
    "    When samples are drawn with replacement, then the method is known as Bagging [B1996].\n",
    "    When random subsets of the dataset are drawn as random subsets of the features, then the method is known as Random Subspaces [H1998].\n",
    "    Finally, when base estimators are built on subsets of both samples and features, then the method is known as Random Patches [LG2012].\n",
    "    \n",
    "2) Boosting - combine weak learners to create stronger learner. Classifier said to be weak when small changes induce big changes in the model. Next iteration places more weight on those cases incorrectly classified in the last round.\n",
    "\n",
    "3) Adaptive Boosting - Ada Boost - Each classifier serially trained to correctly classify all incorrectly classified previously. Requires user to specify the set of weak learners.\n",
    "\n",
    "For a learned classifier to make strong predictions:\n",
    "    Rules should be simple\n",
    "    Classifier trained on sufficient number of samples\n",
    "    Low training error\n",
    "    Sensitive to noisy data and outliers. Simple to implemen, good generalization and not prone to overfitting\n",
    "    \n",
    "4) Gradient Tree Boosting\n",
    "Decision Trees are used as weak learners  in Gradient Boosting. Builds first learner. Calculates loss and uses loss to build an improved learner.\n",
    "    Harder to fit than Random forests. Three parameters Shrinkage, depth of tree, number of trees. Proper training needed for a good fit.\n",
    "    \n",
    "5) XGBoost - Extreme Gradient Boosting - 10 times faster than gradient boosting. Implements parallel processing. Highly flexible.\n",
    "http://xgboost.readthedocs.io/en/latest/model.html\n",
    "Tree Ensemble\n",
    "The tree ensemble model is a set of classification and regression trees (CART).\n",
    "A CART is a bit different from decision trees, where the leaf only contains decision values. In CART, a real score is associated with \n",
    "each of the leaves, which gives us richer interpretations that go beyond classification. \n",
    "Random forests and boosted trees are not different in terms of model, the difference is how we train them.\n",
    "Additive training - use an additive strategy: fix what we have learned, and add one new tree at a time.\n",
    "Can optimize every loss function, including logistic regression and weighted logistic regression.\n",
    "https://github.com/dmlc/xgboost/tree/master/demo/guide-python\n",
    "\n",
    "http://blog.kaggle.com/2017/01/23/a-kaggle-master-explains-gradient-boosting/\n",
    "Single decision/regression tree – it fails to include predictive power from multiple, overlapping regions of the feature space"
   ]
  },
  {
   "cell_type": "code",
   "execution_count": 47,
   "metadata": {
    "collapsed": true
   },
   "outputs": [],
   "source": [
    "# Standard library imports\n",
    "import pandas as pd\n",
    "import matplotlib.pyplot as plt\n",
    "import math\n",
    "import numpy as np\n",
    "\n",
    "from scipy import stats as st\n",
    "import seaborn as sns\n",
    "\n",
    "from sklearn.linear_model import LinearRegression\n",
    "import sklearn.linear_model as linear_model\n",
    "from sklearn.preprocessing import StandardScaler\n",
    "from sklearn.model_selection import train_test_split\n",
    "\n",
    "%matplotlib inline"
   ]
  },
  {
   "cell_type": "code",
   "execution_count": 48,
   "metadata": {
    "collapsed": true
   },
   "outputs": [],
   "source": [
    "# load data\n",
    "alldata = pd.read_csv('C:/Users/Admin/Documents/LocalDatasets/SampleData_IMC.csv')\n",
    "\n",
    "# Get quantative and qualitative variables\n",
    "quantitative = [f for f in train.columns if train.dtypes[f] != 'object']\n",
    "qualitative = [f for f in train.columns if train.dtypes[f] == 'object']"
   ]
  },
  {
   "cell_type": "code",
   "execution_count": 49,
   "metadata": {},
   "outputs": [
    {
     "data": {
      "text/html": [
       "<div>\n",
       "<table border=\"1\" class=\"dataframe\">\n",
       "  <thead>\n",
       "    <tr style=\"text-align: right;\">\n",
       "      <th></th>\n",
       "      <th>MSISDN</th>\n",
       "      <th>AON</th>\n",
       "      <th>Churn Flag</th>\n",
       "      <th>Avg_Inactive_Days in last 1 month</th>\n",
       "      <th>Current_Balance in INR</th>\n",
       "      <th>Data Days Latest week</th>\n",
       "      <th>Calling Days Latestweek</th>\n",
       "      <th>Recharge Amount Latest Week</th>\n",
       "      <th>Avg_OG_Local_Offnet_Cnt</th>\n",
       "      <th>Avg_OG_Local_Offnet_Cnt.1</th>\n",
       "      <th>Roaming User</th>\n",
       "      <th>Avergae Complaints Count Last 4 weeks</th>\n",
       "    </tr>\n",
       "  </thead>\n",
       "  <tbody>\n",
       "    <tr>\n",
       "      <th>0</th>\n",
       "      <td>7610120456</td>\n",
       "      <td>6-12 months</td>\n",
       "      <td>1.0</td>\n",
       "      <td>4.18</td>\n",
       "      <td>20.0</td>\n",
       "      <td>1.0</td>\n",
       "      <td>1.0</td>\n",
       "      <td>44.0</td>\n",
       "      <td>13.0</td>\n",
       "      <td>5.0</td>\n",
       "      <td>0.0</td>\n",
       "      <td>3.0</td>\n",
       "    </tr>\n",
       "    <tr>\n",
       "      <th>1</th>\n",
       "      <td>7611120467</td>\n",
       "      <td>12-18 months</td>\n",
       "      <td>0.0</td>\n",
       "      <td>16.00</td>\n",
       "      <td>18.0</td>\n",
       "      <td>2.0</td>\n",
       "      <td>3.0</td>\n",
       "      <td>18.0</td>\n",
       "      <td>7.0</td>\n",
       "      <td>14.0</td>\n",
       "      <td>1.0</td>\n",
       "      <td>1.0</td>\n",
       "    </tr>\n",
       "    <tr>\n",
       "      <th>2</th>\n",
       "      <td>9711120467</td>\n",
       "      <td>&gt;18 months</td>\n",
       "      <td>0.0</td>\n",
       "      <td>18.00</td>\n",
       "      <td>8.0</td>\n",
       "      <td>4.0</td>\n",
       "      <td>2.0</td>\n",
       "      <td>98.0</td>\n",
       "      <td>12.0</td>\n",
       "      <td>12.0</td>\n",
       "      <td>0.0</td>\n",
       "      <td>0.0</td>\n",
       "    </tr>\n",
       "    <tr>\n",
       "      <th>3</th>\n",
       "      <td>9830022336</td>\n",
       "      <td>3-6 months</td>\n",
       "      <td>0.0</td>\n",
       "      <td>18.00</td>\n",
       "      <td>8.0</td>\n",
       "      <td>3.0</td>\n",
       "      <td>2.0</td>\n",
       "      <td>86.0</td>\n",
       "      <td>3.0</td>\n",
       "      <td>12.0</td>\n",
       "      <td>0.0</td>\n",
       "      <td>2.0</td>\n",
       "    </tr>\n",
       "    <tr>\n",
       "      <th>4</th>\n",
       "      <td>9713246555</td>\n",
       "      <td>&gt;18 months</td>\n",
       "      <td>0.0</td>\n",
       "      <td>6.00</td>\n",
       "      <td>44.0</td>\n",
       "      <td>6.0</td>\n",
       "      <td>3.0</td>\n",
       "      <td>36.0</td>\n",
       "      <td>11.0</td>\n",
       "      <td>4.0</td>\n",
       "      <td>0.0</td>\n",
       "      <td>2.0</td>\n",
       "    </tr>\n",
       "  </tbody>\n",
       "</table>\n",
       "</div>"
      ],
      "text/plain": [
       "       MSISDN           AON  Churn Flag  Avg_Inactive_Days in last 1 month  \\\n",
       "0  7610120456   6-12 months         1.0                               4.18   \n",
       "1  7611120467  12-18 months         0.0                              16.00   \n",
       "2  9711120467    >18 months         0.0                              18.00   \n",
       "3  9830022336    3-6 months         0.0                              18.00   \n",
       "4  9713246555    >18 months         0.0                               6.00   \n",
       "\n",
       "   Current_Balance in INR  Data Days Latest week  Calling Days Latestweek  \\\n",
       "0                    20.0                    1.0                      1.0   \n",
       "1                    18.0                    2.0                      3.0   \n",
       "2                     8.0                    4.0                      2.0   \n",
       "3                     8.0                    3.0                      2.0   \n",
       "4                    44.0                    6.0                      3.0   \n",
       "\n",
       "   Recharge Amount Latest Week  Avg_OG_Local_Offnet_Cnt  \\\n",
       "0                         44.0                     13.0   \n",
       "1                         18.0                      7.0   \n",
       "2                         98.0                     12.0   \n",
       "3                         86.0                      3.0   \n",
       "4                         36.0                     11.0   \n",
       "\n",
       "   Avg_OG_Local_Offnet_Cnt.1  Roaming User  \\\n",
       "0                        5.0           0.0   \n",
       "1                       14.0           1.0   \n",
       "2                       12.0           0.0   \n",
       "3                       12.0           0.0   \n",
       "4                        4.0           0.0   \n",
       "\n",
       "   Avergae Complaints Count Last 4 weeks  \n",
       "0                                    3.0  \n",
       "1                                    1.0  \n",
       "2                                    0.0  \n",
       "3                                    2.0  \n",
       "4                                    2.0  "
      ]
     },
     "execution_count": 49,
     "metadata": {},
     "output_type": "execute_result"
    }
   ],
   "source": [
    "alldata.head()"
   ]
  },
  {
   "cell_type": "code",
   "execution_count": 50,
   "metadata": {},
   "outputs": [
    {
     "name": "stdout",
     "output_type": "stream",
     "text": [
      "['Churn Flag', 'Avg_Inactive_Days in last 1 month', 'Current_Balance in INR', 'Data Days Latest week', 'Calling Days Latestweek', 'Recharge Amount Latest Week', 'Avg_OG_Local_Offnet_Cnt', 'Avg_OG_Local_Offnet_Cnt.1', 'Roaming User', 'Avergae Complaints Count Last 4 weeks', 'AON_12-18 months', 'AON_3-6 months', 'AON_6-12 months', 'AON_>18 months']\n",
      "[]\n"
     ]
    }
   ],
   "source": [
    "alldata.shape\n",
    "print(quantitative)\n",
    "print(qualitative)"
   ]
  },
  {
   "cell_type": "code",
   "execution_count": 51,
   "metadata": {},
   "outputs": [
    {
     "data": {
      "text/plain": [
       " 0.0    193\n",
       "-1.0     15\n",
       " 1.0      3\n",
       "Name: Churn Flag, dtype: int64"
      ]
     },
     "execution_count": 51,
     "metadata": {},
     "output_type": "execute_result"
    }
   ],
   "source": [
    "# This is the imbalance in the data\n",
    "alldata['Churn Flag'].fillna(-1, inplace=True)\n",
    "alldata['Churn Flag'].value_counts()"
   ]
  },
  {
   "cell_type": "code",
   "execution_count": 52,
   "metadata": {},
   "outputs": [
    {
     "data": {
      "text/plain": [
       "0.0    193\n",
       "1.0      3\n",
       "Name: Churn Flag, dtype: int64"
      ]
     },
     "execution_count": 52,
     "metadata": {},
     "output_type": "execute_result"
    }
   ],
   "source": [
    "# Remove missing values\n",
    "alldata = alldata[alldata['Churn Flag'] != -1]\n",
    "alldata['Churn Flag'].value_counts()"
   ]
  },
  {
   "cell_type": "code",
   "execution_count": 53,
   "metadata": {
    "collapsed": true
   },
   "outputs": [],
   "source": [
    "# Drop MSISDN column\n",
    "del alldata['MSISDN']\n",
    "\n",
    "# Create dummy variable for AON (Age on Network)\n",
    "alldata = pd.get_dummies(alldata)"
   ]
  },
  {
   "cell_type": "code",
   "execution_count": 147,
   "metadata": {},
   "outputs": [
    {
     "name": "stdout",
     "output_type": "stream",
     "text": [
      "(38, 1)\n",
      "(38, 13)\n"
     ]
    }
   ],
   "source": [
    "#ratio = round(len(alldata) * 0.20)\n",
    "\n",
    "#sampledata = alldata.sample(ratio)\n",
    "\n",
    "#alldatawithsample = pd.concat([alldata,sampledata])\n",
    "\n",
    "\n",
    "# print(alldata.iloc[0:,1:].shape)\n",
    "# npSeries = pd.Series(alldata.iloc[0:,0:1])   # .ravel()\n",
    "# npSeries\n",
    "# print (alldata.iloc[0:,0:1])\n",
    "# print(alldatawithsample[3:3][0:].shape)\n",
    "\n",
    "msk = np.random.rand(len(alldata)) < 0.8\n",
    "\n",
    "train = alldata[msk]\n",
    "test = alldata[~msk]\n",
    "\n",
    "test_y = test.iloc[0:,0:1]\n",
    "test_x = test.iloc[0:,1:]\n",
    "\n",
    "print (test_y.shape)\n",
    "print (test_x.shape)\n",
    "# X_train, X_test, y_train, y_test = train_test_split(X, y, test_size=0.5)"
   ]
  },
  {
   "cell_type": "code",
   "execution_count": 149,
   "metadata": {},
   "outputs": [
    {
     "name": "stdout",
     "output_type": "stream",
     "text": [
      "[ 1.  0.  0.  0.  0.  0.  0.  0.  0.  0.  0.  0.  0.  0.  0.  0.  0.  0.\n",
      "  0.  0.  0.  0.  0.  0.  0.  0.  0.  0.  0.  0.  0.  0.  0.  0.  0.  0.\n",
      "  0.  0.]\n"
     ]
    },
    {
     "name": "stderr",
     "output_type": "stream",
     "text": [
      "C:\\WinPython\\WinPython-64bit-3.6.1.0Qt5\\python-3.6.1.amd64\\lib\\site-packages\\sklearn\\utils\\validation.py:526: DataConversionWarning: A column-vector y was passed when a 1d array was expected. Please change the shape of y to (n_samples, ), for example using ravel().\n",
      "  y = column_or_1d(y, warn=True)\n"
     ]
    }
   ],
   "source": [
    "# http://scikit-learn.org/stable/modules/generated/sklearn.ensemble.BaggingClassifier.html\n",
    "from sklearn.ensemble import BaggingClassifier\n",
    "from sklearn.neighbors import KNeighborsClassifier\n",
    "\n",
    "# npSeries = pd.Series(alldata.iloc[0:,1:1])   # .ravel()\n",
    "test_y = test.iloc[0:,0:1]\n",
    "test_x = test.iloc[0:,1:]\n",
    "\n",
    "bagging = BaggingClassifier()\n",
    "bagging.fit(test_x,test_y)\n",
    "bagging_output = bagging.predict(test_x)\n"
   ]
  },
  {
   "cell_type": "code",
   "execution_count": 142,
   "metadata": {},
   "outputs": [
    {
     "name": "stderr",
     "output_type": "stream",
     "text": [
      "C:\\WinPython\\WinPython-64bit-3.6.1.0Qt5\\python-3.6.1.amd64\\lib\\site-packages\\sklearn\\utils\\validation.py:526: DataConversionWarning: A column-vector y was passed when a 1d array was expected. Please change the shape of y to (n_samples, ), for example using ravel().\n",
      "  y = column_or_1d(y, warn=True)\n"
     ]
    },
    {
     "data": {
      "text/plain": [
       "1.0"
      ]
     },
     "execution_count": 142,
     "metadata": {},
     "output_type": "execute_result"
    }
   ],
   "source": [
    "# http://scikit-learn.org/stable/modules/generated/sklearn.ensemble.AdaBoostClassifier.html\n",
    "from sklearn.ensemble import AdaBoostClassifier\n",
    "\n",
    "# npSeries = pd.Series(alldata.iloc[0:,1:1])   # .ravel()\n",
    "\n",
    "adaboost = AdaBoostClassifier()\n",
    "adaboost.fit(train.iloc[0:,1:],train.iloc[0:,0:1])\n",
    "\n",
    "adaboost.score(test.iloc[0:,1:],test.iloc[0:,0:1])"
   ]
  },
  {
   "cell_type": "code",
   "execution_count": 143,
   "metadata": {},
   "outputs": [
    {
     "name": "stderr",
     "output_type": "stream",
     "text": [
      "C:\\WinPython\\WinPython-64bit-3.6.1.0Qt5\\python-3.6.1.amd64\\lib\\site-packages\\sklearn\\utils\\validation.py:526: DataConversionWarning: A column-vector y was passed when a 1d array was expected. Please change the shape of y to (n_samples, ), for example using ravel().\n",
      "  y = column_or_1d(y, warn=True)\n"
     ]
    },
    {
     "data": {
      "text/plain": [
       "0.97727272727272729"
      ]
     },
     "execution_count": 143,
     "metadata": {},
     "output_type": "execute_result"
    }
   ],
   "source": [
    "from sklearn.ensemble import GradientBoostingClassifier\n",
    "\n",
    "gradientboost = GradientBoostingClassifier()\n",
    "gradientboost.fit(train.iloc[0:,1:],train.iloc[0:,0:1])\n",
    "\n",
    "gradientboost.score(test.iloc[0:,1:],test.iloc[0:,0:1])"
   ]
  },
  {
   "cell_type": "code",
   "execution_count": 4,
   "metadata": {},
   "outputs": [
    {
     "name": "stderr",
     "output_type": "stream",
     "text": [
      "C:\\WinPython\\WinPython-64bit-3.6.1.0Qt5\\python-3.6.1.amd64\\lib\\site-packages\\sklearn\\cross_validation.py:44: DeprecationWarning: This module was deprecated in version 0.18 in favor of the model_selection module into which all the refactored classes and functions are moved. Also note that the interface of the new CV iterators are different from that of this module. This module will be removed in 0.20.\n",
      "  \"This module will be removed in 0.20.\", DeprecationWarning)\n"
     ]
    }
   ],
   "source": [
    "from xgboost import XGBClassifier\n",
    "\n",
    "# fit model no training data\n",
    "xgboost = XGBClassifier()\n",
    "xgboost.fit(train.iloc[0:,1:],train.iloc[0:,0:1])\n",
    "\n"
   ]
  },
  {
   "cell_type": "code",
   "execution_count": 152,
   "metadata": {},
   "outputs": [
    {
     "name": "stderr",
     "output_type": "stream",
     "text": [
      "C:\\WinPython\\WinPython-64bit-3.6.1.0Qt5\\python-3.6.1.amd64\\lib\\site-packages\\sklearn\\metrics\\ranking.py:542: UndefinedMetricWarning: No positive samples in y_true, true positive value should be meaningless\n",
      "  UndefinedMetricWarning)\n"
     ]
    },
    {
     "data": {
      "image/png": "[encoded data removed]",
      "text/plain": [
       "<matplotlib.figure.Figure at 0x2a3aca27400>"
      ]
     },
     "metadata": {},
     "output_type": "display_data"
    }
   ],
   "source": [
    "# http://scikit-learn.org/stable/modules/generated/sklearn.metrics.roc_curve.html\n",
    "from sklearn.metrics import roc_curve\n",
    "\n",
    "fpr, tpr, thresholds = roc_curve(test.iloc[0:,0:1], bagging_output, pos_label=2)\n",
    "\n",
    "plt.figure(1)\n",
    "plt.plot([0, 1], [0, 1], 'k--')\n",
    "plt.plot(fpr, tpr, label='Bagging')\n",
    "plt.xlabel('False positive rate')\n",
    "plt.ylabel('True positive rate')\n",
    "plt.title('ROC curve')\n",
    "plt.legend(loc='best')\n",
    "plt.show()\n"
   ]
  },
  {
   "cell_type": "code",
   "execution_count": null,
   "metadata": {
    "collapsed": true
   },
   "outputs": [],
   "source": []
  }
 ],
 "metadata": {
  "kernelspec": {
   "display_name": "Python 3",
   "language": "python",
   "name": "python3"
  },
  "language_info": {
   "codemirror_mode": {
    "name": "ipython",
    "version": 3
   },
   "file_extension": ".py",
   "mimetype": "text/x-python",
   "name": "python",
   "nbconvert_exporter": "python",
   "pygments_lexer": "ipython3",
   "version": "3.6.1"
  }
 },
 "nbformat": 4,
 "nbformat_minor": 2
}
