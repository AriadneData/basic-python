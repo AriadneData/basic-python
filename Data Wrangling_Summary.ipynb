{
 "cells": [
  {
   "cell_type": "markdown",
   "metadata": {},
   "source": [
    "## List comprehensions\n",
    "\n",
    "http://www.secnetix.de/olli/Python/list_comprehensions.hawk"
   ]
  },
  {
   "cell_type": "code",
   "execution_count": null,
   "metadata": {
    "collapsed": true
   },
   "outputs": [],
   "source": [
    "S = [x**2 for x in range(10)]\n",
    "V = [2**i for i in range(13)]\n",
    "M = [x for x in S if x % 2 == 0]"
   ]
  },
  {
   "cell_type": "markdown",
   "metadata": {},
   "source": [
    "## Pandas"
   ]
  },
  {
   "cell_type": "code",
   "execution_count": null,
   "metadata": {
    "collapsed": true
   },
   "outputs": [],
   "source": [
    "## Get a sample of the data\n",
    "df_sample = df_prior_orders_with_product.sample(frac=0.05)\n",
    "\n",
    "\n",
    "## UNIQUE values in a column\n",
    "train['left'].unique()\n",
    "\n",
    "## Count of unique values\n",
    "# https://pandas.pydata.org/pandas-docs/stable/generated/pandas.Series.value_counts.html\n",
    "train['left'].value_counts()\n",
    "\n",
    "# Get dtypes\n",
    "df.select_dtypes(['float64','int64'])\n",
    "\n",
    "# Drop a column name\n",
    "df.drop(df.columns[[1, 2]], axis=1, inplace=True)\n",
    "\n",
    "quantitative = [f for f in train.columns if train.dtypes[f] != 'object']\n",
    "\n",
    "## DROPPING COLUMNS\n",
    "##Using DataFrame.drop\n",
    "df.drop(df.columns[[1, 2]], axis=1, inplace=True)\n",
    "# drop by Name\n",
    "df1 = df1.drop(['B', 'C'], axis=1)\n",
    "\n",
    "\n",
    "## Select the ones you want\n",
    "df1 = df[['a','d']]\n",
    "\n",
    "\n",
    "## Using new command difference\n",
    "# https://pandas.pydata.org/pandas-docs/stable/generated/pandas.Index.difference.html\n",
    "df2 = df[df.columns.difference(['B', 'D'])]\n",
    "\n",
    "# Select by Value\n",
    "df.loc[df['column_name'] == some_value]\n",
    "df.loc[df['column_name'].isin(some_values)]\n",
    "df.loc[(df['column_name'] == some_value) & df['other_column'].isin(some_values)]\n",
    "\n",
    "df_orders_test = df_orders.loc[df_orders['eval_set'] == 'test']\n",
    "\n",
    "df_orders_train_set_x.dtypes\n",
    "df_orders_train_set_x['product_id'].astype(float)"
   ]
  },
  {
   "cell_type": "markdown",
   "metadata": {},
   "source": [
    "## Grouping and Summation"
   ]
  },
  {
   "cell_type": "code",
   "execution_count": null,
   "metadata": {
    "collapsed": true
   },
   "outputs": [],
   "source": [
    "df_orders_train.groupby(['product_id']).sum()\n",
    "\n",
    "df_orders_train.groupby(['product_id']).sum().sort_values('reordered', ascending=False)\n",
    "\n",
    "# Group by more than one column - also returns column count with count of items\n",
    "df_unique_prods_cust = df_orders_train_set.groupby(['user_id','product_id'])\n",
    "        .size().reset_index().rename(columns={0:'count'})\n",
    "\n",
    "df_orders_train['product_id'].unique().sum()\n",
    "\n",
    "df_orders_con = pd.merge(df_orders_train, df_orders, on='order_id')  # Merge \n",
    "\n",
    "# count by two dimensions\n",
    "df_cust_prods = df_cust_prods.groupby(['user_id','product_id']).count()"
   ]
  },
  {
   "cell_type": "markdown",
   "metadata": {},
   "source": [
    "## Missing Values"
   ]
  },
  {
   "cell_type": "code",
   "execution_count": null,
   "metadata": {
    "collapsed": true
   },
   "outputs": [],
   "source": [
    "\n",
    "## Test for NaN\n",
    "## Lists count of NULL values\n",
    "train.isnull().sum()\n",
    "\n",
    "df2.fillna(0)\n",
    "df2['four'].fillna('missing')\n",
    "df2['four'].notnull()\n",
    "df2.isnull()\n",
    "pd.isnull(df2['one'])\n",
    "df_orders_train.isnull().any(axis=1).sum()\n",
    "# .any returns whether any element is True over requested axis\n",
    "df_orders[pd.isnull(df_orders).any(axis=1)]\n",
    "\n",
    "# Infinite values\n",
    "infvalues = np.where(df_orders_test_set_x.values >= np.finfo(np.float64).max)"
   ]
  },
  {
   "cell_type": "markdown",
   "metadata": {},
   "source": [
    "## Printing"
   ]
  },
  {
   "cell_type": "code",
   "execution_count": null,
   "metadata": {
    "collapsed": true
   },
   "outputs": [],
   "source": [
    "print('Total number of positive test instances: {}'.format(y_test.sum()))"
   ]
  }
 ],
 "metadata": {
  "kernelspec": {
   "display_name": "Python 3",
   "language": "python",
   "name": "python3"
  },
  "language_info": {
   "codemirror_mode": {
    "name": "ipython",
    "version": 3
   },
   "file_extension": ".py",
   "mimetype": "text/x-python",
   "name": "python",
   "nbconvert_exporter": "python",
   "pygments_lexer": "ipython3",
   "version": "3.6.1"
  }
 },
 "nbformat": 4,
 "nbformat_minor": 2
}
